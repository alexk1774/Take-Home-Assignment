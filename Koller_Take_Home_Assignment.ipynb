{
 "cells": [
  {
   "cell_type": "markdown",
   "id": "837e7e66",
   "metadata": {},
   "source": [
    "# Alexandra Koller\n",
    "## Take Home Assignment\n",
    "### Step 1: Data Transformation"
   ]
  },
  {
   "cell_type": "code",
   "execution_count": 110,
   "id": "8fe223b5",
   "metadata": {},
   "outputs": [
    {
     "name": "stdout",
     "output_type": "stream",
     "text": [
      "Number of rows in patient_enrollment_span_df: 3105\n"
     ]
    }
   ],
   "source": [
    "# Step 1 loads patient enrollment data by month and year, identifies patient continuous enrollment spans,\n",
    "# changes date formatting to a standard style, and saves the results as a patient enrollment span table. \n",
    "\n",
    "import pandas as pd\n",
    "\n",
    "# Upload patient enrollment data\n",
    "patient_month_year_path = r'/Users/alexandrakoller/Desktop/Koller_Take_Home_Assignment/patient_id_month_year.csv'\n",
    "patient_month_year_df = pd.read_csv(patient_month_year_path)\n",
    "\n",
    "# Convert patient enrollment dates from strings to dates\n",
    "patient_month_year_df['month_year'] = pd.to_datetime(patient_month_year_df['month_year'], format='%m/%d/%Y')\n",
    "\n",
    "# Sort data by patient id and enrollment month and year\n",
    "patient_month_year_df = patient_month_year_df.sort_values(['patient_id', 'month_year'])\n",
    "\n",
    "# For each patient ID, determine enrollment spans (for our purposes since enrollment is continuous, gaps would be greater than 1 month)\n",
    "def group_enrollment_spans(group):\n",
    "    gap = group['month_year'].diff().dt.days.gt(31).fillna(False)\n",
    "    group['span_id'] = gap.cumsum()\n",
    "    return group\n",
    "\n",
    "patient_month_year_df = patient_month_year_df.groupby('patient_id', group_keys=False).apply(group_enrollment_spans)\n",
    "\n",
    "# Determine each enrollment span start and end dates\n",
    "patient_enrollment_span_df = patient_month_year_df.groupby(['patient_id', 'span_id']).agg(\n",
    "    enrollment_start_date=('month_year', 'min'),\n",
    "    enrollment_end_date=('month_year', 'max')\n",
    ").reset_index()\n",
    "\n",
    "# Since enrollment dates are inclusive, define enrollment_end_date as the last day of latest enrollment month\n",
    "patient_enrollment_span_df['enrollment_end_date'] += pd.offsets.MonthEnd(0)\n",
    "\n",
    "# Format enrollment start and end dates to standard formatting (YYYY-MM-DD)\n",
    "patient_enrollment_span_df['enrollment_start_date'] = patient_enrollment_span_df['enrollment_start_date'].dt.strftime('%Y-%m-%d')\n",
    "patient_enrollment_span_df['enrollment_end_date'] = patient_enrollment_span_df['enrollment_end_date'].dt.strftime('%Y-%m-%d')\n",
    "\n",
    "# Exclude span_id column\n",
    "patient_enrollment_span_df = patient_enrollment_span_df.drop(columns='span_id')\n",
    "\n",
    "# Save enrollment result as a csv\n",
    "patient_enrollment_span_path = r'/Users/alexandrakoller/Desktop/Koller_Take_Home_Assignment/patient_enrollment_span.csv'\n",
    "patient_enrollment_span_df.to_csv(patient_enrollment_span_path, index=False)\n",
    "\n",
    "# Answer 1: report the number of enrollment rows = 3105\n",
    "number_rows = len(patient_enrollment_span_df)\n",
    "print(f'Number of rows in patient_enrollment_span_df: {number_rows}')\n",
    "\n",
    "\n"
   ]
  },
  {
   "cell_type": "markdown",
   "id": "e814ef1e",
   "metadata": {},
   "source": [
    "### Step 2: Data Aggregation"
   ]
  },
  {
   "cell_type": "code",
   "execution_count": 113,
   "id": "51c2daae",
   "metadata": {},
   "outputs": [
    {
     "name": "stdout",
     "output_type": "stream",
     "text": [
      "Number of distinct values in ct_days_with_outpatient_visit: 33\n"
     ]
    }
   ],
   "source": [
    "# Step 2 loads outpatient visit data and enrollment spans,\n",
    "# filters outpatient visits to only those within enrollment spans for each patient,\n",
    "# calculates the total number of outpatient visits and distinct visit days per enrollment span per patient,\n",
    "# and saves the findings as a results table.\n",
    "\n",
    "import pandas as pd\n",
    "\n",
    "# Upload outpatient visit data\n",
    "outpatient_visits_file_path = r'/Users/alexandrakoller/Desktop/Koller_Take_Home_Assignment/outpatient_visits_file.csv'\n",
    "outpatient_visits_file_df = pd.read_csv(outpatient_visits_file_path)\n",
    "\n",
    "# Convert outpatient visit dates from strings to datetimes\n",
    "outpatient_visits_file_df['date'] = pd.to_datetime(outpatient_visits_file_df['date'], format='%m/%d/%Y')\n",
    "\n",
    "# Upload patient enrollment spans from Step 1\n",
    "patient_enrollment_span_path = r'/Users/alexandrakoller/Desktop/Koller_Take_Home_Assignment/patient_enrollment_span.csv'\n",
    "patient_enrollment_span_df = pd.read_csv(patient_enrollment_span_path)\n",
    "\n",
    "# Convert enrollment start and end dates datetimes\n",
    "patient_enrollment_span_df['enrollment_start_date'] = pd.to_datetime(patient_enrollment_span_df['enrollment_start_date'])\n",
    "patient_enrollment_span_df['enrollment_end_date'] = pd.to_datetime(patient_enrollment_span_df['enrollment_end_date'])\n",
    "\n",
    "# Count total outpatient visits and number of distinct visit days for each patient's enrollment spans\n",
    "def aggregate_visits(row):\n",
    "    patient_id = row['patient_id']\n",
    "    start_date = row['enrollment_start_date']\n",
    "    end_date = row['enrollment_end_date']\n",
    "    \n",
    "    # Filter outpatient visits within each patient's enrollment spans\n",
    "    outpatient_visits = outpatient_visits_file_df[\n",
    "        (outpatient_visits_file_df['patient_id'] == patient_id) &\n",
    "        (outpatient_visits_file_df['date'] >= start_date) &\n",
    "        (outpatient_visits_file_df['date'] <= end_date)\n",
    "    ]\n",
    "    \n",
    "    visit_count = outpatient_visits['outpatient_visit_count'].sum()\n",
    "    day_count = outpatient_visits['date'].nunique()\n",
    "    \n",
    "    return pd.Series([visit_count, day_count])\n",
    "\n",
    "# Calculate totals for each enrollment span\n",
    "patient_enrollment_span_df[['ct_outpatient_visits', 'ct_days_with_outpatient_visit']] = (\n",
    "    patient_enrollment_span_df.apply(aggregate_visits, axis=1)\n",
    ")\n",
    "\n",
    "# Save visit and day count results as a csv\n",
    "result_csv_path = r'/Users/alexandrakoller/Desktop/Koller_Take_Home_Assignment/result.csv'\n",
    "patient_enrollment_span_df.to_csv(result_csv_path, index=False)\n",
    "\n",
    "# Report the number of distinct values of ct_days_with_outpatient_visit in result.csv. \n",
    "distinct_values_count = patient_enrollment_span_df['ct_days_with_outpatient_visit'].nunique()\n",
    "print(f'Number of distinct values in ct_days_with_outpatient_visit: {distinct_values_count}')\n"
   ]
  }
 ],
 "metadata": {
  "kernelspec": {
   "display_name": "base",
   "language": "python",
   "name": "python3"
  },
  "language_info": {
   "codemirror_mode": {
    "name": "ipython",
    "version": 3
   },
   "file_extension": ".py",
   "mimetype": "text/x-python",
   "name": "python",
   "nbconvert_exporter": "python",
   "pygments_lexer": "ipython3",
   "version": "3.8.5"
  }
 },
 "nbformat": 4,
 "nbformat_minor": 5
}
